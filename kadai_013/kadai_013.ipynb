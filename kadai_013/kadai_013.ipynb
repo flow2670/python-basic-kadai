{
  "nbformat": 4,
  "nbformat_minor": 0,
  "metadata": {
    "colab": {
      "provenance": []
    },
    "kernelspec": {
      "name": "python3",
      "display_name": "Python 3"
    },
    "language_info": {
      "name": "python"
    }
  },
  "cells": [
    {
      "cell_type": "code",
      "execution_count": 6,
      "metadata": {
        "colab": {
          "base_uri": "https://localhost:8080/"
        },
        "id": "43fv_0rLpYUX",
        "outputId": "d85cba7d-672f-46cb-fd43-4dc5c183a86e"
      },
      "outputs": [
        {
          "output_type": "stream",
          "name": "stdout",
          "text": [
            "消費税込みの金額は：121.0円です。\n"
          ]
        }
      ],
      "source": [
        "def add_tax (price, tax):\n",
        "  total = price + price * tax * 0.01\n",
        "  return total\n",
        "\n",
        "total_price = add_tax(110, 10)\n",
        "\n",
        "print(f\"消費税込みの金額は：{total_price}円です。\")"
      ]
    }
  ]
}