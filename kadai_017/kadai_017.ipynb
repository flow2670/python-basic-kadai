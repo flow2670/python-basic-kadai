{
  "nbformat": 4,
  "nbformat_minor": 0,
  "metadata": {
    "colab": {
      "provenance": []
    },
    "kernelspec": {
      "name": "python3",
      "display_name": "Python 3"
    },
    "language_info": {
      "name": "python"
    }
  },
  "cells": [
    {
      "cell_type": "code",
      "execution_count": 3,
      "metadata": {
        "colab": {
          "base_uri": "https://localhost:8080/"
        },
        "id": "v_pVhZH4ubam",
        "outputId": "e9cf2405-3313-4ab8-80a6-4d553dc9cd4a"
      },
      "outputs": [
        {
          "output_type": "stream",
          "name": "stdout",
          "text": [
            "一郎さんは大人です。\n",
            "次郎さんは大人です。\n",
            "三郎さんは大人ではありません。\n"
          ]
        }
      ],
      "source": [
        "class Human:\n",
        "  def __init__(self, name, age):\n",
        "    self.name = name\n",
        "    self.age = age\n",
        "\n",
        "  def check_adult(self):\n",
        "    if self.age >= 20:\n",
        "      return f\"{self.name}さんは大人です。\"\n",
        "    else:\n",
        "      return f\"{self.name}さんは大人ではありません。\"\n",
        "\n",
        "def create_human_list(date_list):\n",
        "  human_list = []\n",
        "  for data in data_list:\n",
        "    human = Human(name=data[\"name\"], age=data[\"age\"])\n",
        "    human_list.append(human)\n",
        "  return human_list\n",
        "\n",
        "def print_adult_status(human_list):\n",
        "  for human in human_list:\n",
        "    print(human.check_adult())\n",
        "\n",
        "# インスタンス生成に使うデータリスト\n",
        "data_list = [\n",
        "    {\"name\":\"一郎\", \"age\":25},\n",
        "    {\"name\":\"次郎\", \"age\":20},\n",
        "    {\"name\":\"三郎\", \"age\":15},\n",
        "]\n",
        "\n",
        "humans = create_human_list(data_list)\n",
        "\n",
        "  # check_adultメソッドをリストの要素数分だけ呼び出して結果を表示\n",
        "print_adult_status(humans)"
      ]
    },
    {
      "cell_type": "code",
      "source": [],
      "metadata": {
        "id": "37YE1ivLvm_g"
      },
      "execution_count": null,
      "outputs": []
    }
  ]
}