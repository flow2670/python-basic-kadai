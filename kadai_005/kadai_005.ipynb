{
  "nbformat": 4,
  "nbformat_minor": 0,
  "metadata": {
    "colab": {
      "provenance": []
    },
    "kernelspec": {
      "name": "python3",
      "display_name": "Python 3"
    },
    "language_info": {
      "name": "python"
    }
  },
  "cells": [
    {
      "cell_type": "code",
      "execution_count": 1,
      "metadata": {
        "colab": {
          "base_uri": "https://localhost:8080/"
        },
        "id": "kNKkiv3Ljdn-",
        "outputId": "ce966842-94e3-4215-c164-8167bb11365f"
      },
      "outputs": [
        {
          "output_type": "stream",
          "name": "stdout",
          "text": [
            "75.0cm²\n"
          ]
        }
      ],
      "source": [
        "top_side = 10\n",
        "under_side = 20\n",
        "height = 5\n",
        "\n",
        "area_of_trapezoid = (top_side + under_side) * height / 2\n",
        "print(f\"{area_of_trapezoid}cm\\u00B2\")"
      ]
    }
  ]
}