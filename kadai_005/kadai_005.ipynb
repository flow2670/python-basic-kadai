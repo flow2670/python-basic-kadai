{
  "nbformat": 4,
  "nbformat_minor": 0,
  "metadata": {
    "colab": {
      "provenance": []
    },
    "kernelspec": {
      "name": "python3",
      "display_name": "Python 3"
    },
    "language_info": {
      "name": "python"
    }
  },
  "cells": [
    {
      "cell_type": "code",
      "execution_count": 3,
      "metadata": {
        "colab": {
          "base_uri": "https://localhost:8080/"
        },
        "id": "kNKkiv3Ljdn-",
        "outputId": "d92efba7-5035-4546-fa1c-9bbdd8884956"
      },
      "outputs": [
        {
          "output_type": "stream",
          "name": "stdout",
          "text": [
            "75.0㎠\n"
          ]
        }
      ],
      "source": [
        "top_side = 10\n",
        "under_side = 20\n",
        "height = 5\n",
        "\n",
        "area_of_trapezoid = (top_side + under_side) * height / 2\n",
        "print(f\"{area_of_trapezoid}㎠\")"
      ]
    }
  ]
}