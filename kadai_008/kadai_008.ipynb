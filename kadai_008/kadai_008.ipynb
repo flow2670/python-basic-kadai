{
  "nbformat": 4,
  "nbformat_minor": 0,
  "metadata": {
    "colab": {
      "provenance": []
    },
    "kernelspec": {
      "name": "python3",
      "display_name": "Python 3"
    },
    "language_info": {
      "name": "python"
    }
  },
  "cells": [
    {
      "cell_type": "code",
      "execution_count": 19,
      "metadata": {
        "colab": {
          "base_uri": "https://localhost:8080/"
        },
        "id": "MzbAZSoJSsIW",
        "outputId": "9d8ad43a-fdae-47b9-906d-c87175e33c19"
      },
      "outputs": [
        {
          "output_type": "stream",
          "name": "stdout",
          "text": [
            "4\n"
          ]
        }
      ],
      "source": [
        "var = 4\n",
        "if var % 15 == 0:\n",
        " print(\"FizzBuzz\")\n",
        "elif var % 3 == 0:\n",
        " print(\"Fizz\")\n",
        "elif var % 5 == 0:\n",
        " print(\"Buzz\")\n",
        "else:\n",
        " print(var)\n"
      ]
    },
    {
      "cell_type": "code",
      "source": [],
      "metadata": {
        "id": "dHCOAV2tUaUm"
      },
      "execution_count": null,
      "outputs": []
    }
  ]
}