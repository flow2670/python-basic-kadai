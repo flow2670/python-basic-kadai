{
  "nbformat": 4,
  "nbformat_minor": 0,
  "metadata": {
    "colab": {
      "provenance": []
    },
    "kernelspec": {
      "name": "python3",
      "display_name": "Python 3"
    },
    "language_info": {
      "name": "python"
    }
  },
  "cells": [
    {
      "cell_type": "code",
      "execution_count": 17,
      "metadata": {
        "colab": {
          "base_uri": "https://localhost:8080/"
        },
        "id": "MzbAZSoJSsIW",
        "outputId": "ca5c449d-4ca6-415b-8b9e-fed695ad5172"
      },
      "outputs": [
        {
          "output_type": "stream",
          "name": "stdout",
          "text": [
            "FizzBuzz\n"
          ]
        }
      ],
      "source": [
        "var = 15\n",
        "if var % 15 == 0:\n",
        " print(\"FizzBuzz\")\n",
        "elif var % 3 == 0:\n",
        " print(\"Fizz\")\n",
        "elif var % 5 == 0:\n",
        " print(\"Buzz\")\n",
        "else:\n",
        " print(\"var\")\n"
      ]
    },
    {
      "cell_type": "code",
      "source": [],
      "metadata": {
        "id": "dHCOAV2tUaUm"
      },
      "execution_count": null,
      "outputs": []
    }
  ]
}