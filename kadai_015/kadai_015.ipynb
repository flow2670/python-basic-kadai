{
  "nbformat": 4,
  "nbformat_minor": 0,
  "metadata": {
    "colab": {
      "provenance": []
    },
    "kernelspec": {
      "name": "python3",
      "display_name": "Python 3"
    },
    "language_info": {
      "name": "python"
    }
  },
  "cells": [
    {
      "cell_type": "code",
      "execution_count": 9,
      "metadata": {
        "colab": {
          "base_uri": "https://localhost:8080/"
        },
        "id": "PWNjs0QFV8IM",
        "outputId": "8ab8a600-a58a-4dc7-a72e-712f07faf45d"
      },
      "outputs": [
        {
          "output_type": "stream",
          "name": "stdout",
          "text": [
            "Name: 侍太郎, Age: 36\n"
          ]
        }
      ],
      "source": [
        "class Human:\n",
        "  #コンストラクタを定義する\n",
        "  def __init__(self, name, age):\n",
        "    self.name = name\n",
        "    self.age = age\n",
        "\n",
        "# nameとageを標準出力するメソッドを定義する\n",
        "  def printinfo(self):\n",
        "    print(f\"Name: {self.name}, Age: {self.age}\")\n",
        "\n",
        "#インスタンス化する\n",
        "human = Human(\"侍太郎\", 36)\n",
        "\n",
        "# printinfoメソッドを呼び出して表示する\n",
        "human.printinfo()"
      ]
    }
  ]
}